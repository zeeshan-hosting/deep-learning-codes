{
  "nbformat": 4,
  "nbformat_minor": 0,
  "metadata": {
    "colab": {
      "name": "image classification using cnn.ipynb",
      "provenance": [],
      "collapsed_sections": []
    },
    "kernelspec": {
      "name": "python3",
      "display_name": "Python 3"
    },
    "language_info": {
      "name": "python"
    }
  },
  "cells": [
    {
      "cell_type": "markdown",
      "metadata": {
        "id": "hQRm9SVkbDKf"
      },
      "source": [
        "## CIFAR10 image classification by CNN( convolutional neural network)"
      ]
    },
    {
      "cell_type": "markdown",
      "metadata": {
        "id": "ZU_xSi-Gbkmc"
      },
      "source": [
        "## In neural networks, Convolutional neural network (ConvNets or CNNs) is one of the main categories to do images recognition, images classifications. Objects detections, recognition faces etc., are some of the areas where CNNs are widely used."
      ]
    },
    {
      "cell_type": "markdown",
      "metadata": {
        "id": "Ivj7KmQze-Hh"
      },
      "source": [
        "## importing the libraries"
      ]
    },
    {
      "cell_type": "code",
      "metadata": {
        "id": "7CSPvssOYqSO"
      },
      "source": [
        "import tensorflow as tf\n",
        "from tensorflow import keras\n",
        "import matplotlib.pyplot as plt\n",
        "import numpy as np\n"
      ],
      "execution_count": 7,
      "outputs": []
    },
    {
      "cell_type": "markdown",
      "metadata": {
        "id": "14WQwf1_fQv4"
      },
      "source": [
        "## loading the datasets"
      ]
    },
    {
      "cell_type": "code",
      "metadata": {
        "id": "uiDWTzInd5Of"
      },
      "source": [
        "(x_train,y_train),(x_test,y_test)=keras.datasets.cifar10.load_data()"
      ],
      "execution_count": 10,
      "outputs": []
    },
    {
      "cell_type": "code",
      "metadata": {
        "colab": {
          "base_uri": "https://localhost:8080/"
        },
        "id": "LzZlgDxGfg4f",
        "outputId": "cab9d528-eec2-4702-8a2a-d4ca8fbfd337"
      },
      "source": [
        "# checking the  shape of the data\n",
        "\n",
        "x_train.shape,x_test.shape,y_train.shape,y_test.shape"
      ],
      "execution_count": 11,
      "outputs": [
        {
          "output_type": "execute_result",
          "data": {
            "text/plain": [
              "((50000, 32, 32, 3), (10000, 32, 32, 3), (50000, 1), (10000, 1))"
            ]
          },
          "metadata": {
            "tags": []
          },
          "execution_count": 11
        }
      ]
    },
    {
      "cell_type": "code",
      "metadata": {
        "colab": {
          "base_uri": "https://localhost:8080/"
        },
        "id": "IZhPwsqvfyG3",
        "outputId": "df06db43-a8a4-48b5-8be9-0fa93b4c752d"
      },
      "source": [
        "x_train[0].shape"
      ],
      "execution_count": 13,
      "outputs": [
        {
          "output_type": "execute_result",
          "data": {
            "text/plain": [
              "(32, 32, 3)"
            ]
          },
          "metadata": {
            "tags": []
          },
          "execution_count": 13
        }
      ]
    },
    {
      "cell_type": "code",
      "metadata": {
        "colab": {
          "base_uri": "https://localhost:8080/"
        },
        "id": "pGRN5AZbgNub",
        "outputId": "9bd7cd54-ead3-440e-d59d-d651a95e67c0"
      },
      "source": [
        "y_train[0].shape"
      ],
      "execution_count": 14,
      "outputs": [
        {
          "output_type": "execute_result",
          "data": {
            "text/plain": [
              "(1,)"
            ]
          },
          "metadata": {
            "tags": []
          },
          "execution_count": 14
        }
      ]
    },
    {
      "cell_type": "code",
      "metadata": {
        "colab": {
          "base_uri": "https://localhost:8080/"
        },
        "id": "phHT_doIgWk6",
        "outputId": "f89cea62-63fa-4bd6-d3c7-86d2ce79ef51"
      },
      "source": [
        "x_train[0]"
      ],
      "execution_count": 15,
      "outputs": [
        {
          "output_type": "execute_result",
          "data": {
            "text/plain": [
              "array([[[ 59,  62,  63],\n",
              "        [ 43,  46,  45],\n",
              "        [ 50,  48,  43],\n",
              "        ...,\n",
              "        [158, 132, 108],\n",
              "        [152, 125, 102],\n",
              "        [148, 124, 103]],\n",
              "\n",
              "       [[ 16,  20,  20],\n",
              "        [  0,   0,   0],\n",
              "        [ 18,   8,   0],\n",
              "        ...,\n",
              "        [123,  88,  55],\n",
              "        [119,  83,  50],\n",
              "        [122,  87,  57]],\n",
              "\n",
              "       [[ 25,  24,  21],\n",
              "        [ 16,   7,   0],\n",
              "        [ 49,  27,   8],\n",
              "        ...,\n",
              "        [118,  84,  50],\n",
              "        [120,  84,  50],\n",
              "        [109,  73,  42]],\n",
              "\n",
              "       ...,\n",
              "\n",
              "       [[208, 170,  96],\n",
              "        [201, 153,  34],\n",
              "        [198, 161,  26],\n",
              "        ...,\n",
              "        [160, 133,  70],\n",
              "        [ 56,  31,   7],\n",
              "        [ 53,  34,  20]],\n",
              "\n",
              "       [[180, 139,  96],\n",
              "        [173, 123,  42],\n",
              "        [186, 144,  30],\n",
              "        ...,\n",
              "        [184, 148,  94],\n",
              "        [ 97,  62,  34],\n",
              "        [ 83,  53,  34]],\n",
              "\n",
              "       [[177, 144, 116],\n",
              "        [168, 129,  94],\n",
              "        [179, 142,  87],\n",
              "        ...,\n",
              "        [216, 184, 140],\n",
              "        [151, 118,  84],\n",
              "        [123,  92,  72]]], dtype=uint8)"
            ]
          },
          "metadata": {
            "tags": []
          },
          "execution_count": 15
        }
      ]
    },
    {
      "cell_type": "code",
      "metadata": {
        "colab": {
          "base_uri": "https://localhost:8080/",
          "height": 176
        },
        "id": "fO2RPRcrgqwU",
        "outputId": "a5af1ca0-1fb4-40bb-ca6c-9dc83900a4ad"
      },
      "source": [
        "plt.figure(figsize=(5,2))\n",
        "plt.imshow(x_train[0])"
      ],
      "execution_count": 20,
      "outputs": [
        {
          "output_type": "execute_result",
          "data": {
            "text/plain": [
              "<matplotlib.image.AxesImage at 0x7f07075d94d0>"
            ]
          },
          "metadata": {
            "tags": []
          },
          "execution_count": 20
        },
        {
          "output_type": "display_data",
          "data": {
            "image/png": "[encoded data removed]",
            "text/plain": [
              "<Figure size 360x144 with 1 Axes>"
            ]
          },
          "metadata": {
            "tags": [],
            "needs_background": "light"
          }
        }
      ]
    },
    {
      "cell_type": "code",
      "metadata": {
        "colab": {
          "base_uri": "https://localhost:8080/",
          "height": 176
        },
        "id": "PFH7z3p2g-9I",
        "outputId": "b7f306fb-13b8-4389-99ce-62a4e3ebcb3b"
      },
      "source": [
        "plt.figure(figsize=(5,2))\n",
        "plt.imshow(x_train[2])"
      ],
      "execution_count": 24,
      "outputs": [
        {
          "output_type": "execute_result",
          "data": {
            "text/plain": [
              "<matplotlib.image.AxesImage at 0x7f07073eed10>"
            ]
          },
          "metadata": {
            "tags": []
          },
          "execution_count": 24
        },
        {
          "output_type": "display_data",
          "data": {
            "image/png": "[encoded data removed]",
            "text/plain": [
              "<Figure size 360x144 with 1 Axes>"
            ]
          },
          "metadata": {
            "tags": [],
            "needs_background": "light"
          }
        }
      ]
    },
    {
      "cell_type": "code",
      "metadata": {
        "colab": {
          "base_uri": "https://localhost:8080/"
        },
        "id": "PGurHZiJhT15",
        "outputId": "35b8428b-ce04-4d6c-8261-025790dbbd6e"
      },
      "source": [
        "y_train[0:5]  # since its a 2 dimesnional array , will just convert into one dimensional"
      ],
      "execution_count": 26,
      "outputs": [
        {
          "output_type": "execute_result",
          "data": {
            "text/plain": [
              "array([[6],\n",
              "       [9],\n",
              "       [9],\n",
              "       [4],\n",
              "       [1]], dtype=uint8)"
            ]
          },
          "metadata": {
            "tags": []
          },
          "execution_count": 26
        }
      ]
    },
    {
      "cell_type": "code",
      "metadata": {
        "id": "DIPsOtsnhnbw"
      },
      "source": [
        "y_train = y_train.reshape(-1,)\n",
        "y_test=y_test.reshape(-1,)"
      ],
      "execution_count": 27,
      "outputs": []
    },
    {
      "cell_type": "code",
      "metadata": {
        "colab": {
          "base_uri": "https://localhost:8080/"
        },
        "id": "YVKD1VBtiA2a",
        "outputId": "d2893785-a197-4c3e-b065-57237e708ba0"
      },
      "source": [
        "y_train[0:10]"
      ],
      "execution_count": 28,
      "outputs": [
        {
          "output_type": "execute_result",
          "data": {
            "text/plain": [
              "array([6, 9, 9, 4, 1, 1, 2, 7, 8, 3], dtype=uint8)"
            ]
          },
          "metadata": {
            "tags": []
          },
          "execution_count": 28
        }
      ]
    },
    {
      "cell_type": "code",
      "metadata": {
        "id": "bbuoQotuiC9u"
      },
      "source": [
        "# y represents the classes of each figure\n",
        "classes = [\"airplane\",\"automobile\",\"bird\",\"cat\",\"deer\",\"dog\",\"frog\",\"horse\",\"ship\",\"truck\"]"
      ],
      "execution_count": 29,
      "outputs": []
    },
    {
      "cell_type": "code",
      "metadata": {
        "id": "BfrlBdY6igMb"
      },
      "source": [
        "# now plotting a figure for each classes with label\n",
        "def plot_sample(x,y,index):\n",
        "  plt.figure(figsize=(5,2))\n",
        "  plt.imshow(x_train[index])\n",
        "  plt.xlabel(classes[y[index]])"
      ],
      "execution_count": 33,
      "outputs": []
    },
    {
      "cell_type": "code",
      "metadata": {
        "colab": {
          "base_uri": "https://localhost:8080/",
          "height": 502
        },
        "id": "SUR91l06jexa",
        "outputId": "d0086bf5-ba54-40ed-b4ea-3f0faefbf379"
      },
      "source": [
        "plot_sample(x_train,y_train,5),plot_sample(x_train,y_train,10),plot_sample(x_train,y_train,9)"
      ],
      "execution_count": 37,
      "outputs": [
        {
          "output_type": "execute_result",
          "data": {
            "text/plain": [
              "(None, None, None)"
            ]
          },
          "metadata": {
            "tags": []
          },
          "execution_count": 37
        },
        {
          "output_type": "display_data",
          "data": {
            "image/png": "[encoded data removed]",
            "text/plain": [
              "<Figure size 360x144 with 1 Axes>"
            ]
          },
          "metadata": {
            "tags": [],
            "needs_background": "light"
          }
        },
        {
          "output_type": "display_data",
          "data": {
            "image/png": "[encoded data removed]",
            "text/plain": [
              "<Figure size 360x144 with 1 Axes>"
            ]
          },
          "metadata": {
            "tags": [],
            "needs_background": "light"
          }
        },
        {
          "output_type": "display_data",
          "data": {
            "image/png": "[encoded data removed]",
            "text/plain": [
              "<Figure size 360x144 with 1 Axes>"
            ]
          },
          "metadata": {
            "tags": [],
            "needs_background": "light"
          }
        }
      ]
    },
    {
      "cell_type": "markdown",
      "metadata": {
        "id": "6vQC0ss9kLLV"
      },
      "source": [
        "## normalizing our datasets"
      ]
    },
    {
      "cell_type": "code",
      "metadata": {
        "id": "bHAWCV6nkFmF"
      },
      "source": [
        "x_train_scaled=x_train/255\n",
        "x_test_scaled=x_test/255\n"
      ],
      "execution_count": 41,
      "outputs": []
    },
    {
      "cell_type": "markdown",
      "metadata": {
        "id": "EYAa20MdlvhX"
      },
      "source": [
        "#First checking the accuracy with SIMPLE ANN"
      ]
    },
    {
      "cell_type": "code",
      "metadata": {
        "id": "R9t-fToxkYX-"
      },
      "source": [
        "ann=keras.Sequential([\n",
        "                      keras.layers.Flatten(input_shape=(32,32,3)),  # input shape\n",
        "                      keras.layers.Dense(3000,activation=\"relu\"),   # hidden layers\n",
        "                      keras.layers.Dense(1000,activation=\"relu\"),   # hidden layers\n",
        "                      keras.layers.Dense(10,activation=\"sigmoid\")    # output layers\n",
        "])"
      ],
      "execution_count": 46,
      "outputs": []
    },
    {
      "cell_type": "code",
      "metadata": {
        "id": "03_e739ImoWT"
      },
      "source": [
        "ann.compile(optimizer=\"SGD\",loss=\"sparse_categorical_crossentropy\",metrics=[\"accuracy\"])"
      ],
      "execution_count": 47,
      "outputs": []
    },
    {
      "cell_type": "code",
      "metadata": {
        "colab": {
          "base_uri": "https://localhost:8080/"
        },
        "id": "hn5XAXz-nrHm",
        "outputId": "b8ca7de7-3dd7-4f5c-b78d-0c1f1a6adcd8"
      },
      "source": [
        "ann.fit(x_train_scaled,y_train,epochs=5)"
      ],
      "execution_count": 50,
      "outputs": [
        {
          "output_type": "stream",
          "text": [
            "Epoch 1/5\n",
            "1563/1563 [==============================] - 119s 76ms/step - loss: 1.7445 - accuracy: 0.3827\n",
            "Epoch 2/5\n",
            "1563/1563 [==============================] - 115s 73ms/step - loss: 1.6063 - accuracy: 0.4318\n",
            "Epoch 3/5\n",
            "1563/1563 [==============================] - 116s 74ms/step - loss: 1.5315 - accuracy: 0.4591\n",
            "Epoch 4/5\n",
            "1563/1563 [==============================] - 118s 75ms/step - loss: 1.4750 - accuracy: 0.4798\n",
            "Epoch 5/5\n",
            "1563/1563 [==============================] - 117s 75ms/step - loss: 1.4259 - accuracy: 0.4980\n"
          ],
          "name": "stdout"
        },
        {
          "output_type": "execute_result",
          "data": {
            "text/plain": [
              "<tensorflow.python.keras.callbacks.History at 0x7f0700953dd0>"
            ]
          },
          "metadata": {
            "tags": []
          },
          "execution_count": 50
        }
      ]
    },
    {
      "cell_type": "markdown",
      "metadata": {
        "id": "IKRCEimgsiLk"
      },
      "source": [
        "## observation after ann model:"
      ]
    },
    {
      "cell_type": "code",
      "metadata": {
        "id": "pAqfr4Men247"
      },
      "source": [
        "# accuracy comes very low that is 50%\n",
        "# also the time taken by ann model is also high"
      ],
      "execution_count": 51,
      "outputs": []
    },
    {
      "cell_type": "markdown",
      "metadata": {
        "id": "Hgy-iBm_s_Ox"
      },
      "source": [
        "## Now checking performance by CNN:"
      ]
    },
    {
      "cell_type": "code",
      "metadata": {
        "id": "G1zGLnL8s9i3"
      },
      "source": [
        "cnn=keras.Sequential([\n",
        "                      ## cnn code\n",
        "                      keras.layers.Conv2D(filters=32,kernel_size=(3,3),activation=\"relu\",input_shape=(32,32,3)),   # first convulational + relu layers\n",
        "                      keras.layers.MaxPooling2D((2,2)),                                                            # first pooling of 2*2   \n",
        "                      keras.layers.Conv2D(filters=50,kernel_size=(3,3),activation=\"relu\"),                        # second filters convulational  + relu \n",
        "                      keras.layers.MaxPooling2D((2,2)),                                                            # second pooling          \n",
        "                      ## dense layers\n",
        "                      keras.layers.Flatten(),                                                                     # flattening of matrix into 1d array\n",
        "                      keras.layers.Dense(64,activation=\"relu\"),                                                   # first hidden layer      \n",
        "                      keras.layers.Dense(10,activation=\"softmax\")                                                  # output layers with softmax function               \n",
        "\n",
        "\n",
        "])"
      ],
      "execution_count": 57,
      "outputs": []
    },
    {
      "cell_type": "code",
      "metadata": {
        "id": "FkTj-tXtvCJM"
      },
      "source": [
        "cnn.compile(optimizer=\"adam\",loss=\"sparse_categorical_crossentropy\",metrics=[\"accuracy\"])"
      ],
      "execution_count": 58,
      "outputs": []
    },
    {
      "cell_type": "code",
      "metadata": {
        "colab": {
          "base_uri": "https://localhost:8080/"
        },
        "id": "gFtcmGNAw0B-",
        "outputId": "398d1e7b-c65e-486a-8d9c-5baef3b0f569"
      },
      "source": [
        "%%time\n",
        "cnn.fit(x_train_scaled,y_train,epochs=14)"
      ],
      "execution_count": 60,
      "outputs": [
        {
          "output_type": "stream",
          "text": [
            "Epoch 1/14\n",
            "1563/1563 [==============================] - 64s 40ms/step - loss: 1.4706 - accuracy: 0.4702\n",
            "Epoch 2/14\n",
            "1563/1563 [==============================] - 63s 40ms/step - loss: 1.1313 - accuracy: 0.6048\n",
            "Epoch 3/14\n",
            "1563/1563 [==============================] - 63s 40ms/step - loss: 1.0129 - accuracy: 0.6471\n",
            "Epoch 4/14\n",
            "1563/1563 [==============================] - 63s 40ms/step - loss: 0.9336 - accuracy: 0.6752\n",
            "Epoch 5/14\n",
            "1563/1563 [==============================] - 63s 40ms/step - loss: 0.8771 - accuracy: 0.6950\n",
            "Epoch 6/14\n",
            "1563/1563 [==============================] - 63s 40ms/step - loss: 0.8263 - accuracy: 0.7135\n",
            "Epoch 7/14\n",
            "1563/1563 [==============================] - 63s 40ms/step - loss: 0.7853 - accuracy: 0.7252\n",
            "Epoch 8/14\n",
            "1563/1563 [==============================] - 63s 40ms/step - loss: 0.7474 - accuracy: 0.7425\n",
            "Epoch 9/14\n",
            "1563/1563 [==============================] - 63s 40ms/step - loss: 0.7103 - accuracy: 0.7514\n",
            "Epoch 10/14\n",
            "1563/1563 [==============================] - 62s 40ms/step - loss: 0.6813 - accuracy: 0.7633\n",
            "Epoch 11/14\n",
            "1563/1563 [==============================] - 62s 40ms/step - loss: 0.6478 - accuracy: 0.7740\n",
            "Epoch 12/14\n",
            "1563/1563 [==============================] - 62s 40ms/step - loss: 0.6203 - accuracy: 0.7814\n",
            "Epoch 13/14\n",
            "1563/1563 [==============================] - 62s 40ms/step - loss: 0.5982 - accuracy: 0.7917\n",
            "Epoch 14/14\n",
            "1563/1563 [==============================] - 62s 40ms/step - loss: 0.5730 - accuracy: 0.7995\n",
            "CPU times: user 24min 20s, sys: 1min 12s, total: 25min 33s\n",
            "Wall time: 15min 22s\n"
          ],
          "name": "stdout"
        },
        {
          "output_type": "execute_result",
          "data": {
            "text/plain": [
              "<tensorflow.python.keras.callbacks.History at 0x7f06ff0a0b10>"
            ]
          },
          "metadata": {
            "tags": []
          },
          "execution_count": 60
        }
      ]
    },
    {
      "cell_type": "code",
      "metadata": {
        "colab": {
          "base_uri": "https://localhost:8080/"
        },
        "id": "A1urU2e9xBaj",
        "outputId": "9dfc827c-0625-4c2b-e8f8-29adbaf56aaf"
      },
      "source": [
        "cnn.evaluate(x_test_scaled,y_test)"
      ],
      "execution_count": 62,
      "outputs": [
        {
          "output_type": "stream",
          "text": [
            "313/313 [==============================] - 4s 12ms/step - loss: 1.0071 - accuracy: 0.6878\n"
          ],
          "name": "stdout"
        },
        {
          "output_type": "execute_result",
          "data": {
            "text/plain": [
              "[1.0070900917053223, 0.6877999901771545]"
            ]
          },
          "metadata": {
            "tags": []
          },
          "execution_count": 62
        }
      ]
    },
    {
      "cell_type": "code",
      "metadata": {
        "colab": {
          "base_uri": "https://localhost:8080/",
          "height": 173
        },
        "id": "ZCI1_Fg_xkJT",
        "outputId": "d34d8aaa-5b04-4e07-debb-c805534533a2"
      },
      "source": [
        "plot_sample(x_test,y_test,1)"
      ],
      "execution_count": 63,
      "outputs": [
        {
          "output_type": "display_data",
          "data": {
            "image/png": "[encoded data removed]",
            "text/plain": [
              "<Figure size 360x144 with 1 Axes>"
            ]
          },
          "metadata": {
            "tags": [],
            "needs_background": "light"
          }
        }
      ]
    },
    {
      "cell_type": "code",
      "metadata": {
        "id": "-tzO1NkUxkeX"
      },
      "source": [
        "y_pred_cnn=cnn.predict(x_test)"
      ],
      "execution_count": 64,
      "outputs": []
    },
    {
      "cell_type": "code",
      "metadata": {
        "colab": {
          "base_uri": "https://localhost:8080/"
        },
        "id": "LfLve6KsxkrO",
        "outputId": "b8b147ea-4be7-419e-e580-ca2b44a9e17e"
      },
      "source": [
        "y_pred_cnn[0:5]"
      ],
      "execution_count": 65,
      "outputs": [
        {
          "output_type": "execute_result",
          "data": {
            "text/plain": [
              "array([[0., 0., 0., 0., 0., 0., 0., 0., 1., 0.],\n",
              "       [0., 0., 0., 0., 0., 0., 0., 0., 1., 0.],\n",
              "       [1., 0., 0., 0., 0., 0., 0., 0., 0., 0.],\n",
              "       [1., 0., 0., 0., 0., 0., 0., 0., 0., 0.],\n",
              "       [0., 0., 0., 0., 0., 0., 0., 0., 1., 0.]], dtype=float32)"
            ]
          },
          "metadata": {
            "tags": []
          },
          "execution_count": 65
        }
      ]
    },
    {
      "cell_type": "code",
      "metadata": {
        "id": "IpObDX0A1ELy"
      },
      "source": [
        "y_pred_classes = [np.argmax(element) for element in y_pred_cnn]"
      ],
      "execution_count": 66,
      "outputs": []
    },
    {
      "cell_type": "code",
      "metadata": {
        "colab": {
          "base_uri": "https://localhost:8080/"
        },
        "id": "lrMNMbeL1S6y",
        "outputId": "32d47cc1-6ce6-47d6-fae1-b572b799f705"
      },
      "source": [
        "y_pred_classes[:5]"
      ],
      "execution_count": 67,
      "outputs": [
        {
          "output_type": "execute_result",
          "data": {
            "text/plain": [
              "[8, 8, 0, 0, 8]"
            ]
          },
          "metadata": {
            "tags": []
          },
          "execution_count": 67
        }
      ]
    },
    {
      "cell_type": "code",
      "metadata": {
        "colab": {
          "base_uri": "https://localhost:8080/"
        },
        "id": "AXrC541j1cF3",
        "outputId": "b13eca6b-ce94-405e-ca9f-b5da3a999ff2"
      },
      "source": [
        "y_test[:5]"
      ],
      "execution_count": 70,
      "outputs": [
        {
          "output_type": "execute_result",
          "data": {
            "text/plain": [
              "array([3, 8, 8, 0, 6], dtype=uint8)"
            ]
          },
          "metadata": {
            "tags": []
          },
          "execution_count": 70
        }
      ]
    },
    {
      "cell_type": "code",
      "metadata": {
        "colab": {
          "base_uri": "https://localhost:8080/",
          "height": 173
        },
        "id": "THjzq14i1_9e",
        "outputId": "7e4b75f7-ccaa-42ef-b73e-fc9cf8350113"
      },
      "source": [
        "plot_sample(x_test_scaled, y_test,51)"
      ],
      "execution_count": 73,
      "outputs": [
        {
          "output_type": "display_data",
          "data": {
            "image/png": "[encoded data removed]",
            "text/plain": [
              "<Figure size 360x144 with 1 Axes>"
            ]
          },
          "metadata": {
            "tags": [],
            "needs_background": "light"
          }
        }
      ]
    },
    {
      "cell_type": "code",
      "metadata": {
        "colab": {
          "base_uri": "https://localhost:8080/",
          "height": 176
        },
        "id": "cwYS-hgH2PmM",
        "outputId": "2655b187-39fc-479e-cead-7253bcd4ff76"
      },
      "source": [
        "plt.figure(figsize=(5,2))\n",
        "plt.imshow(x_train[51])"
      ],
      "execution_count": 74,
      "outputs": [
        {
          "output_type": "execute_result",
          "data": {
            "text/plain": [
              "<matplotlib.image.AxesImage at 0x7f06fcd9a990>"
            ]
          },
          "metadata": {
            "tags": []
          },
          "execution_count": 74
        },
        {
          "output_type": "display_data",
          "data": {
            "image/png": "[encoded data removed]",
            "text/plain": [
              "<Figure size 360x144 with 1 Axes>"
            ]
          },
          "metadata": {
            "tags": [],
            "needs_background": "light"
          }
        }
      ]
    },
    {
      "cell_type": "markdown",
      "metadata": {
        "id": "gyL3mNCRyD8E"
      },
      "source": [
        "# plotting the confusion matrix"
      ]
    },
    {
      "cell_type": "code",
      "metadata": {
        "colab": {
          "base_uri": "https://localhost:8080/"
        },
        "id": "luPcvA54xkwV",
        "outputId": "de056486-9faa-4b81-e139-2f0854b5ea02"
      },
      "source": [
        "from sklearn.metrics import confusion_matrix , classification_report\n",
        "import numpy as np\n",
        "print(\"classification report after cnn model training is \\n\",classification_report(y_test,y_pred_classes))"
      ],
      "execution_count": 80,
      "outputs": [
        {
          "output_type": "stream",
          "text": [
            "classification report after cnn model training is \n",
            "               precision    recall  f1-score   support\n",
            "\n",
            "           0       0.29      0.86      0.43      1000\n",
            "           1       0.65      0.62      0.63      1000\n",
            "           2       0.62      0.18      0.28      1000\n",
            "           3       0.42      0.18      0.26      1000\n",
            "           4       0.72      0.12      0.20      1000\n",
            "           5       0.53      0.45      0.49      1000\n",
            "           6       0.72      0.48      0.57      1000\n",
            "           7       0.63      0.53      0.57      1000\n",
            "           8       0.40      0.67      0.50      1000\n",
            "           9       0.53      0.59      0.56      1000\n",
            "\n",
            "    accuracy                           0.47     10000\n",
            "   macro avg       0.55      0.47      0.45     10000\n",
            "weighted avg       0.55      0.47      0.45     10000\n",
            "\n"
          ],
          "name": "stdout"
        }
      ]
    },
    {
      "cell_type": "code",
      "metadata": {
        "id": "Uzkq37duxkzj"
      },
      "source": [
        ""
      ],
      "execution_count": null,
      "outputs": []
    },
    {
      "cell_type": "code",
      "metadata": {
        "id": "xtLRTI49xk1Z"
      },
      "source": [
        ""
      ],
      "execution_count": null,
      "outputs": []
    }
  ]
}