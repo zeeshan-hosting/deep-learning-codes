{
  "nbformat": 4,
  "nbformat_minor": 0,
  "metadata": {
    "colab": {
      "name": "Untitled8.ipynb",
      "provenance": []
    },
    "kernelspec": {
      "name": "python3",
      "display_name": "Python 3"
    },
    "language_info": {
      "name": "python"
    }
  },
  "cells": [
    {
      "cell_type": "markdown",
      "metadata": {
        "id": "RBalUI5I0jC-"
      },
      "source": [
        "## *******HAND WRITTEN DIGIT RECOGNITION USING NEURAL NETWORK:****************"
      ]
    },
    {
      "cell_type": "markdown",
      "metadata": {
        "id": "waW7cGWC083h"
      },
      "source": [
        "## importing all the necessary libraries"
      ]
    },
    {
      "cell_type": "code",
      "metadata": {
        "id": "gTjvHA5nw1lY"
      },
      "source": [
        "import tensorflow as tf\n",
        "from tensorflow import keras\n",
        "import matplotlib.pyplot as plt\n",
        "% matplotlib inline\n",
        "import numpy as np\n"
      ],
      "execution_count": 2,
      "outputs": []
    },
    {
      "cell_type": "code",
      "metadata": {
        "id": "3frAS7fIw9To"
      },
      "source": [
        "(x_train,y_train),(x_test,y_test)=keras.datasets.mnist.load_data()"
      ],
      "execution_count": 5,
      "outputs": []
    },
    {
      "cell_type": "code",
      "metadata": {
        "colab": {
          "base_uri": "https://localhost:8080/"
        },
        "id": "KWM7jbGS1fAm",
        "outputId": "61f9c4b6-e630-4334-eb40-5bdf9b184993"
      },
      "source": [
        "x_train.shape,y_train.shape,x_test.shape,y_test.shape"
      ],
      "execution_count": 8,
      "outputs": [
        {
          "output_type": "execute_result",
          "data": {
            "text/plain": [
              "((60000, 28, 28), (60000,), (10000, 28, 28), (10000,))"
            ]
          },
          "metadata": {
            "tags": []
          },
          "execution_count": 8
        }
      ]
    },
    {
      "cell_type": "code",
      "metadata": {
        "colab": {
          "base_uri": "https://localhost:8080/"
        },
        "id": "VDGpXpQc1x5s",
        "outputId": "02d9be97-dda9-496b-ed0a-48bda1043562"
      },
      "source": [
        "len(x_train)"
      ],
      "execution_count": 11,
      "outputs": [
        {
          "output_type": "execute_result",
          "data": {
            "text/plain": [
              "60000"
            ]
          },
          "metadata": {
            "tags": []
          },
          "execution_count": 11
        }
      ]
    },
    {
      "cell_type": "code",
      "metadata": {
        "colab": {
          "base_uri": "https://localhost:8080/"
        },
        "id": "B7nc4eZN2Ct7",
        "outputId": "0b992288-7dd5-4c34-d54a-12935bc9cebc"
      },
      "source": [
        "y_train"
      ],
      "execution_count": 12,
      "outputs": [
        {
          "output_type": "execute_result",
          "data": {
            "text/plain": [
              "array([5, 0, 4, ..., 5, 6, 8], dtype=uint8)"
            ]
          },
          "metadata": {
            "tags": []
          },
          "execution_count": 12
        }
      ]
    },
    {
      "cell_type": "markdown",
      "metadata": {
        "id": "aS8NNST12UMF"
      },
      "source": [
        "## observations:"
      ]
    },
    {
      "cell_type": "code",
      "metadata": {
        "id": "wC3Rbp6C2Qrr"
      },
      "source": [
        "# no of rows in x_train and y_train=6000\n",
        "# no of rows in x_test,y_test=1000\n",
        "# shape of a each number =28*28 (784) in matrix array\n",
        "# y _train and y_test represents the output of each digit i.e(0,1,2,3,4,5,6,7,8,9)"
      ],
      "execution_count": 14,
      "outputs": []
    },
    {
      "cell_type": "code",
      "metadata": {
        "colab": {
          "base_uri": "https://localhost:8080/",
          "height": 292
        },
        "id": "Q9qYCjPY26cL",
        "outputId": "40f4e4e6-7acb-48a7-c8b5-2263843241ca"
      },
      "source": [
        "# lets visualize the digit\n",
        "plt.matshow(x_train[5])"
      ],
      "execution_count": 17,
      "outputs": [
        {
          "output_type": "execute_result",
          "data": {
            "text/plain": [
              "<matplotlib.image.AxesImage at 0x7fd51508f850>"
            ]
          },
          "metadata": {
            "tags": []
          },
          "execution_count": 17
        },
        {
          "output_type": "display_data",
          "data": {
            "image/png": "[encoded data removed]",
            "text/plain": [
              "<Figure size 288x288 with 1 Axes>"
            ]
          },
          "metadata": {
            "tags": [],
            "needs_background": "light"
          }
        }
      ]
    },
    {
      "cell_type": "code",
      "metadata": {
        "colab": {
          "base_uri": "https://localhost:8080/"
        },
        "id": "HJEFlloE3Seq",
        "outputId": "ad901981-2c4e-4fb9-f03b-6fee413d211e"
      },
      "source": [
        "print(y_train[5])"
      ],
      "execution_count": 19,
      "outputs": [
        {
          "output_type": "stream",
          "text": [
            "2\n"
          ],
          "name": "stdout"
        }
      ]
    },
    {
      "cell_type": "code",
      "metadata": {
        "colab": {
          "base_uri": "https://localhost:8080/",
          "height": 292
        },
        "id": "TIb6lqv83lM_",
        "outputId": "bf6d2bbb-f616-4d41-ab9d-8f0320277eb0"
      },
      "source": [
        "plt.matshow(x_test[5])"
      ],
      "execution_count": 20,
      "outputs": [
        {
          "output_type": "execute_result",
          "data": {
            "text/plain": [
              "<matplotlib.image.AxesImage at 0x7fd514f86390>"
            ]
          },
          "metadata": {
            "tags": []
          },
          "execution_count": 20
        },
        {
          "output_type": "display_data",
          "data": {
            "image/png": "[encoded data removed]",
            "text/plain": [
              "<Figure size 288x288 with 1 Axes>"
            ]
          },
          "metadata": {
            "tags": [],
            "needs_background": "light"
          }
        }
      ]
    },
    {
      "cell_type": "code",
      "metadata": {
        "colab": {
          "base_uri": "https://localhost:8080/",
          "height": 566
        },
        "id": "QeVl-A4_4F2J",
        "outputId": "c8b9262f-fdf7-49ce-a505-aa919c67c99b"
      },
      "source": [
        "%%time\n",
        "for i in x_train[100:102]:\n",
        "  plt.matshow(i)"
      ],
      "execution_count": 44,
      "outputs": [
        {
          "output_type": "stream",
          "text": [
            "CPU times: user 40.9 ms, sys: 947 µs, total: 41.9 ms\n",
            "Wall time: 41.7 ms\n"
          ],
          "name": "stdout"
        },
        {
          "output_type": "display_data",
          "data": {
            "image/png": "[encoded data removed]",
            "text/plain": [
              "<Figure size 288x288 with 1 Axes>"
            ]
          },
          "metadata": {
            "tags": [],
            "needs_background": "light"
          }
        },
        {
          "output_type": "display_data",
          "data": {
            "image/png": "[encoded data removed]",
            "text/plain": [
              "<Figure size 288x288 with 1 Axes>"
            ]
          },
          "metadata": {
            "tags": [],
            "needs_background": "light"
          }
        }
      ]
    },
    {
      "cell_type": "code",
      "metadata": {
        "colab": {
          "base_uri": "https://localhost:8080/"
        },
        "id": "mo9NEP184av0",
        "outputId": "db8c10ee-b12a-458c-ba8b-0f2f8051511d"
      },
      "source": [
        "x_train[0].shape"
      ],
      "execution_count": 28,
      "outputs": [
        {
          "output_type": "execute_result",
          "data": {
            "text/plain": [
              "(28, 28)"
            ]
          },
          "metadata": {
            "tags": []
          },
          "execution_count": 28
        }
      ]
    },
    {
      "cell_type": "code",
      "metadata": {
        "colab": {
          "base_uri": "https://localhost:8080/"
        },
        "id": "M5PIDUtK5T6A",
        "outputId": "de821f82-f62d-4e0b-e2b0-b05991c9ff60"
      },
      "source": [
        "x_train[0]  # in matrix form  and we need to scale our datasets:"
      ],
      "execution_count": 30,
      "outputs": [
        {
          "output_type": "execute_result",
          "data": {
            "text/plain": [
              "array([[  0,   0,   0,   0,   0,   0,   0,   0,   0,   0,   0,   0,   0,\n",
              "          0,   0,   0,   0,   0,   0,   0,   0,   0,   0,   0,   0,   0,\n",
              "          0,   0],\n",
              "       [  0,   0,   0,   0,   0,   0,   0,   0,   0,   0,   0,   0,   0,\n",
              "          0,   0,   0,   0,   0,   0,   0,   0,   0,   0,   0,   0,   0,\n",
              "          0,   0],\n",
              "       [  0,   0,   0,   0,   0,   0,   0,   0,   0,   0,   0,   0,   0,\n",
              "          0,   0,   0,   0,   0,   0,   0,   0,   0,   0,   0,   0,   0,\n",
              "          0,   0],\n",
              "       [  0,   0,   0,   0,   0,   0,   0,   0,   0,   0,   0,   0,   0,\n",
              "          0,   0,   0,   0,   0,   0,   0,   0,   0,   0,   0,   0,   0,\n",
              "          0,   0],\n",
              "       [  0,   0,   0,   0,   0,   0,   0,   0,   0,   0,   0,   0,   0,\n",
              "          0,   0,   0,   0,   0,   0,   0,   0,   0,   0,   0,   0,   0,\n",
              "          0,   0],\n",
              "       [  0,   0,   0,   0,   0,   0,   0,   0,   0,   0,   0,   0,   3,\n",
              "         18,  18,  18, 126, 136, 175,  26, 166, 255, 247, 127,   0,   0,\n",
              "          0,   0],\n",
              "       [  0,   0,   0,   0,   0,   0,   0,   0,  30,  36,  94, 154, 170,\n",
              "        253, 253, 253, 253, 253, 225, 172, 253, 242, 195,  64,   0,   0,\n",
              "          0,   0],\n",
              "       [  0,   0,   0,   0,   0,   0,   0,  49, 238, 253, 253, 253, 253,\n",
              "        253, 253, 253, 253, 251,  93,  82,  82,  56,  39,   0,   0,   0,\n",
              "          0,   0],\n",
              "       [  0,   0,   0,   0,   0,   0,   0,  18, 219, 253, 253, 253, 253,\n",
              "        253, 198, 182, 247, 241,   0,   0,   0,   0,   0,   0,   0,   0,\n",
              "          0,   0],\n",
              "       [  0,   0,   0,   0,   0,   0,   0,   0,  80, 156, 107, 253, 253,\n",
              "        205,  11,   0,  43, 154,   0,   0,   0,   0,   0,   0,   0,   0,\n",
              "          0,   0],\n",
              "       [  0,   0,   0,   0,   0,   0,   0,   0,   0,  14,   1, 154, 253,\n",
              "         90,   0,   0,   0,   0,   0,   0,   0,   0,   0,   0,   0,   0,\n",
              "          0,   0],\n",
              "       [  0,   0,   0,   0,   0,   0,   0,   0,   0,   0,   0, 139, 253,\n",
              "        190,   2,   0,   0,   0,   0,   0,   0,   0,   0,   0,   0,   0,\n",
              "          0,   0],\n",
              "       [  0,   0,   0,   0,   0,   0,   0,   0,   0,   0,   0,  11, 190,\n",
              "        253,  70,   0,   0,   0,   0,   0,   0,   0,   0,   0,   0,   0,\n",
              "          0,   0],\n",
              "       [  0,   0,   0,   0,   0,   0,   0,   0,   0,   0,   0,   0,  35,\n",
              "        241, 225, 160, 108,   1,   0,   0,   0,   0,   0,   0,   0,   0,\n",
              "          0,   0],\n",
              "       [  0,   0,   0,   0,   0,   0,   0,   0,   0,   0,   0,   0,   0,\n",
              "         81, 240, 253, 253, 119,  25,   0,   0,   0,   0,   0,   0,   0,\n",
              "          0,   0],\n",
              "       [  0,   0,   0,   0,   0,   0,   0,   0,   0,   0,   0,   0,   0,\n",
              "          0,  45, 186, 253, 253, 150,  27,   0,   0,   0,   0,   0,   0,\n",
              "          0,   0],\n",
              "       [  0,   0,   0,   0,   0,   0,   0,   0,   0,   0,   0,   0,   0,\n",
              "          0,   0,  16,  93, 252, 253, 187,   0,   0,   0,   0,   0,   0,\n",
              "          0,   0],\n",
              "       [  0,   0,   0,   0,   0,   0,   0,   0,   0,   0,   0,   0,   0,\n",
              "          0,   0,   0,   0, 249, 253, 249,  64,   0,   0,   0,   0,   0,\n",
              "          0,   0],\n",
              "       [  0,   0,   0,   0,   0,   0,   0,   0,   0,   0,   0,   0,   0,\n",
              "          0,  46, 130, 183, 253, 253, 207,   2,   0,   0,   0,   0,   0,\n",
              "          0,   0],\n",
              "       [  0,   0,   0,   0,   0,   0,   0,   0,   0,   0,   0,   0,  39,\n",
              "        148, 229, 253, 253, 253, 250, 182,   0,   0,   0,   0,   0,   0,\n",
              "          0,   0],\n",
              "       [  0,   0,   0,   0,   0,   0,   0,   0,   0,   0,  24, 114, 221,\n",
              "        253, 253, 253, 253, 201,  78,   0,   0,   0,   0,   0,   0,   0,\n",
              "          0,   0],\n",
              "       [  0,   0,   0,   0,   0,   0,   0,   0,  23,  66, 213, 253, 253,\n",
              "        253, 253, 198,  81,   2,   0,   0,   0,   0,   0,   0,   0,   0,\n",
              "          0,   0],\n",
              "       [  0,   0,   0,   0,   0,   0,  18, 171, 219, 253, 253, 253, 253,\n",
              "        195,  80,   9,   0,   0,   0,   0,   0,   0,   0,   0,   0,   0,\n",
              "          0,   0],\n",
              "       [  0,   0,   0,   0,  55, 172, 226, 253, 253, 253, 253, 244, 133,\n",
              "         11,   0,   0,   0,   0,   0,   0,   0,   0,   0,   0,   0,   0,\n",
              "          0,   0],\n",
              "       [  0,   0,   0,   0, 136, 253, 253, 253, 212, 135, 132,  16,   0,\n",
              "          0,   0,   0,   0,   0,   0,   0,   0,   0,   0,   0,   0,   0,\n",
              "          0,   0],\n",
              "       [  0,   0,   0,   0,   0,   0,   0,   0,   0,   0,   0,   0,   0,\n",
              "          0,   0,   0,   0,   0,   0,   0,   0,   0,   0,   0,   0,   0,\n",
              "          0,   0],\n",
              "       [  0,   0,   0,   0,   0,   0,   0,   0,   0,   0,   0,   0,   0,\n",
              "          0,   0,   0,   0,   0,   0,   0,   0,   0,   0,   0,   0,   0,\n",
              "          0,   0],\n",
              "       [  0,   0,   0,   0,   0,   0,   0,   0,   0,   0,   0,   0,   0,\n",
              "          0,   0,   0,   0,   0,   0,   0,   0,   0,   0,   0,   0,   0,\n",
              "          0,   0]], dtype=uint8)"
            ]
          },
          "metadata": {
            "tags": []
          },
          "execution_count": 30
        }
      ]
    },
    {
      "cell_type": "markdown",
      "metadata": {
        "id": "C5Cnld6k5KE-"
      },
      "source": [
        "## scaling our datasets:"
      ]
    },
    {
      "cell_type": "code",
      "metadata": {
        "id": "APlf8xTz5DWg"
      },
      "source": [
        "x_train_scaled=x_train/255                 # 0-black   255-white\n",
        "x_test_scaled=x_test/255"
      ],
      "execution_count": 31,
      "outputs": []
    },
    {
      "cell_type": "code",
      "metadata": {
        "id": "1Ee0nQFR6Uv6"
      },
      "source": [
        "\n",
        "# flattening our datasets: ( converting 2 dimension matrix into one dimension array)\n",
        "\n",
        "x_train_flat=x_train_scaled.reshape(len(x_train),28*28)\n",
        "x_test_flat=x_test_scaled.reshape(len(x_test),28*28)"
      ],
      "execution_count": 33,
      "outputs": []
    },
    {
      "cell_type": "code",
      "metadata": {
        "colab": {
          "base_uri": "https://localhost:8080/"
        },
        "id": "PikMtLKw7F5O",
        "outputId": "2fb2f990-07a5-4547-8fcb-76a856655b38"
      },
      "source": [
        "x_train_flat.shape"
      ],
      "execution_count": 34,
      "outputs": [
        {
          "output_type": "execute_result",
          "data": {
            "text/plain": [
              "(60000, 784)"
            ]
          },
          "metadata": {
            "tags": []
          },
          "execution_count": 34
        }
      ]
    },
    {
      "cell_type": "code",
      "metadata": {
        "colab": {
          "base_uri": "https://localhost:8080/"
        },
        "id": "k9eCTdzJ7L1u",
        "outputId": "d9455e45-86dd-4bae-8d7e-1d5ec32e62af"
      },
      "source": [
        "x_test_flat.shape"
      ],
      "execution_count": 35,
      "outputs": [
        {
          "output_type": "execute_result",
          "data": {
            "text/plain": [
              "(10000, 784)"
            ]
          },
          "metadata": {
            "tags": []
          },
          "execution_count": 35
        }
      ]
    },
    {
      "cell_type": "markdown",
      "metadata": {
        "id": "_Z84L-qX7XVd"
      },
      "source": [
        "## building our model without hidden layer , lets check the accuracy ;"
      ]
    },
    {
      "cell_type": "code",
      "metadata": {
        "colab": {
          "base_uri": "https://localhost:8080/"
        },
        "id": "6zVGLzbm6Mvp",
        "outputId": "0c30dff7-86cd-44e0-ea17-f1a00660897f"
      },
      "source": [
        "%%time\n",
        "model=keras.Sequential([keras.layers.Dense(10,input_shape=(784,),activation =\"sigmoid\")])      # output layer=10, inputlayer=784, activation=sigmoid (bcz its a  binary classification)\n",
        "model.compile(optimizer=\"adam\",loss=\"sparse_categorical_crossentropy\",metrics=[\"accuracy\"])\n",
        "model.fit(x_train_flat,y_train,epochs=5)                                                       # epoch=5 ( 5 times the layer will run)"
      ],
      "execution_count": 43,
      "outputs": [
        {
          "output_type": "stream",
          "text": [
            "Epoch 1/5\n",
            "1875/1875 [==============================] - 3s 1ms/step - loss: 0.4700 - accuracy: 0.8774\n",
            "Epoch 2/5\n",
            "1875/1875 [==============================] - 2s 1ms/step - loss: 0.3044 - accuracy: 0.9154\n",
            "Epoch 3/5\n",
            "1875/1875 [==============================] - 3s 1ms/step - loss: 0.2837 - accuracy: 0.9202\n",
            "Epoch 4/5\n",
            "1875/1875 [==============================] - 2s 1ms/step - loss: 0.2733 - accuracy: 0.9239\n",
            "Epoch 5/5\n",
            "1875/1875 [==============================] - 2s 1ms/step - loss: 0.2662 - accuracy: 0.9258\n",
            "CPU times: user 14.6 s, sys: 1.43 s, total: 16.1 s\n",
            "Wall time: 21.1 s\n"
          ],
          "name": "stdout"
        }
      ]
    },
    {
      "cell_type": "code",
      "metadata": {
        "id": "4YKeAB4_E-SS"
      },
      "source": [
        "# we are getting a accuracy of almost 93%\n"
      ],
      "execution_count": null,
      "outputs": []
    },
    {
      "cell_type": "code",
      "metadata": {
        "colab": {
          "base_uri": "https://localhost:8080/"
        },
        "id": "B5zTCkvF9dRu",
        "outputId": "703f44a4-59f8-4952-e9b0-09b2006b1238"
      },
      "source": [
        "# evaluate the model\n",
        "\n",
        "model.evaluate(x_test_flat,y_test)"
      ],
      "execution_count": 45,
      "outputs": [
        {
          "output_type": "stream",
          "text": [
            "313/313 [==============================] - 0s 1ms/step - loss: 0.2719 - accuracy: 0.9212\n"
          ],
          "name": "stdout"
        },
        {
          "output_type": "execute_result",
          "data": {
            "text/plain": [
              "[0.2718774080276489, 0.9211999773979187]"
            ]
          },
          "metadata": {
            "tags": []
          },
          "execution_count": 45
        }
      ]
    },
    {
      "cell_type": "markdown",
      "metadata": {
        "id": "jnXr823PAYcb"
      },
      "source": [
        "## prediction of x_test"
      ]
    },
    {
      "cell_type": "code",
      "metadata": {
        "id": "Zl3PclLOARI6"
      },
      "source": [
        "y_pred=model.predict(x_test_flat)"
      ],
      "execution_count": 46,
      "outputs": []
    },
    {
      "cell_type": "code",
      "metadata": {
        "colab": {
          "base_uri": "https://localhost:8080/"
        },
        "id": "ZEUfBtjmAsKH",
        "outputId": "f269e0f9-0f31-4c0e-dcde-036cbb54ed6e"
      },
      "source": [
        "y_pred[5]             # its is gving 10 output for first row , bcz we have 10 output layers at output layer,  so we need to take maximum of these arrays"
      ],
      "execution_count": 49,
      "outputs": [
        {
          "output_type": "execute_result",
          "data": {
            "text/plain": [
              "array([1.16388976e-04, 9.98543799e-01, 4.81294721e-01, 4.70272094e-01,\n",
              "       9.59399343e-03, 2.71933973e-02, 8.89620185e-03, 6.19720936e-01,\n",
              "       5.44748366e-01, 1.92405850e-01], dtype=float32)"
            ]
          },
          "metadata": {
            "tags": []
          },
          "execution_count": 49
        }
      ]
    },
    {
      "cell_type": "code",
      "metadata": {
        "colab": {
          "base_uri": "https://localhost:8080/"
        },
        "id": "mvGsppAJAvkE",
        "outputId": "66fda1ef-4fcb-4459-a9c6-ffa2933662d1"
      },
      "source": [
        "# so we need to take maximum value of y_pred \n",
        "\n",
        "np.argmax(y_pred[5])"
      ],
      "execution_count": 55,
      "outputs": [
        {
          "output_type": "execute_result",
          "data": {
            "text/plain": [
              "1"
            ]
          },
          "metadata": {
            "tags": []
          },
          "execution_count": 55
        }
      ]
    },
    {
      "cell_type": "code",
      "metadata": {
        "id": "0gdKo8zPBbjJ"
      },
      "source": [
        "# we can also convert y_pred output in integer;\n",
        "\n",
        "y_pred_int=[np.argmax(i) for i in y_pred]"
      ],
      "execution_count": 53,
      "outputs": []
    },
    {
      "cell_type": "code",
      "metadata": {
        "colab": {
          "base_uri": "https://localhost:8080/"
        },
        "id": "IVZCs2W5CGP6",
        "outputId": "77c4eb26-97be-4c6c-eb2f-3ba586a2c96a"
      },
      "source": [
        "# comparing with y_pred and y_pred_int\n",
        "y_pred_int[5] "
      ],
      "execution_count": 54,
      "outputs": [
        {
          "output_type": "execute_result",
          "data": {
            "text/plain": [
              "1"
            ]
          },
          "metadata": {
            "tags": []
          },
          "execution_count": 54
        }
      ]
    },
    {
      "cell_type": "markdown",
      "metadata": {
        "id": "944oaQTuCeBu"
      },
      "source": [
        "## plotting the confusion matrix"
      ]
    },
    {
      "cell_type": "code",
      "metadata": {
        "id": "eHn1pi_PCWYp"
      },
      "source": [
        "con_mat=tf.math.confusion_matrix(labels=y_test,predictions=y_pred_int)"
      ],
      "execution_count": 57,
      "outputs": []
    },
    {
      "cell_type": "code",
      "metadata": {
        "colab": {
          "base_uri": "https://localhost:8080/"
        },
        "id": "TiRnbM3iCz3a",
        "outputId": "ef332977-4aff-4b88-d6f1-ee075887b0c5"
      },
      "source": [
        "con_mat"
      ],
      "execution_count": 59,
      "outputs": [
        {
          "output_type": "execute_result",
          "data": {
            "text/plain": [
              "<tf.Tensor: shape=(10, 10), dtype=int32, numpy=\n",
              "array([[ 967,    0,    0,    2,    0,    4,    3,    2,    2,    0],\n",
              "       [   0, 1118,    3,    3,    0,    1,    3,    2,    5,    0],\n",
              "       [  10,   11,  899,   28,   14,    2,   12,   11,   41,    4],\n",
              "       [   4,    0,   13,  935,    0,   16,    2,   11,   21,    8],\n",
              "       [   2,    2,    2,    1,  916,    0,   11,    4,    8,   36],\n",
              "       [  11,    3,    1,   48,   11,  758,   13,    7,   33,    7],\n",
              "       [  15,    3,    7,    1,   11,   11,  906,    2,    2,    0],\n",
              "       [   1,    7,   19,    8,    9,    1,    0,  939,    2,   42],\n",
              "       [   9,   14,    6,   26,    9,   26,    8,   12,  854,   10],\n",
              "       [  11,    7,    1,   10,   30,    6,    0,   18,    6,  920]],\n",
              "      dtype=int32)>"
            ]
          },
          "metadata": {
            "tags": []
          },
          "execution_count": 59
        }
      ]
    },
    {
      "cell_type": "markdown",
      "metadata": {
        "id": "eyZVZWiqDAsX"
      },
      "source": [
        "## visualizing the confusion matrix with seaborn:"
      ]
    },
    {
      "cell_type": "code",
      "metadata": {
        "colab": {
          "base_uri": "https://localhost:8080/",
          "height": 624
        },
        "id": "rtQES4mrC48K",
        "outputId": "4aa2fee4-33c1-4c9a-bed0-2c088074e2ba"
      },
      "source": [
        "import seaborn as sns\n",
        "plt.figure(figsize=(10,10))\n",
        "plt.xlabel(\"predicted\")\n",
        "plt.ylabel(\"actual value\")\n",
        "plt.title(\"confusion matrix between actual and predicted value\")\n",
        "sns.heatmap(con_mat,annot=True,fmt=\"d\",cmap=\"cool\")"
      ],
      "execution_count": 72,
      "outputs": [
        {
          "output_type": "execute_result",
          "data": {
            "text/plain": [
              "<matplotlib.axes._subplots.AxesSubplot at 0x7fd4fdf68b10>"
            ]
          },
          "metadata": {
            "tags": []
          },
          "execution_count": 72
        },
        {
          "output_type": "display_data",
          "data": {
            "image/png": "[encoded data removed]",
            "text/plain": [
              "<Figure size 720x720 with 2 Axes>"
            ]
          },
          "metadata": {
            "tags": [],
            "needs_background": "light"
          }
        }
      ]
    },
    {
      "cell_type": "markdown",
      "metadata": {
        "id": "U5RKtx5hFIyF"
      },
      "source": [
        "## lets check the accuracy with including the hidden layer"
      ]
    },
    {
      "cell_type": "code",
      "metadata": {
        "id": "9Gam3CB6DZuC"
      },
      "source": [
        "# hidden layer improves the accuracy "
      ],
      "execution_count": 73,
      "outputs": []
    },
    {
      "cell_type": "code",
      "metadata": {
        "colab": {
          "base_uri": "https://localhost:8080/"
        },
        "id": "kK1B6axfFdHN",
        "outputId": "a159574d-cad8-4c14-cfb0-e92fe5e2e058"
      },
      "source": [
        "%%time\n",
        "model1=keras.Sequential([keras.layers.Dense(110,input_shape=(784,),activation=\"relu\"),  # hidden layers=110, activation= relu\n",
        "                         keras.layers.Dense(10,activation=\"sigmoid\")])                  # output layers=10 , activation =\"sigmoid\"\n",
        "model1.compile(optimizer=\"adam\",loss=\"sparse_categorical_crossentropy\",metrics=[\"accuracy\"])\n",
        "model1.fit(x_train_flat,y_train,epochs=5)   "
      ],
      "execution_count": 74,
      "outputs": [
        {
          "output_type": "stream",
          "text": [
            "Epoch 1/5\n",
            "1875/1875 [==============================] - 5s 3ms/step - loss: 0.2673 - accuracy: 0.9237\n",
            "Epoch 2/5\n",
            "1875/1875 [==============================] - 4s 2ms/step - loss: 0.1189 - accuracy: 0.9651\n",
            "Epoch 3/5\n",
            "1875/1875 [==============================] - 5s 2ms/step - loss: 0.0821 - accuracy: 0.9754\n",
            "Epoch 4/5\n",
            "1875/1875 [==============================] - 4s 2ms/step - loss: 0.0608 - accuracy: 0.9814\n",
            "Epoch 5/5\n",
            "1875/1875 [==============================] - 5s 2ms/step - loss: 0.0482 - accuracy: 0.9853\n",
            "CPU times: user 28.7 s, sys: 2.18 s, total: 30.8 s\n",
            "Wall time: 41.5 s\n"
          ],
          "name": "stdout"
        }
      ]
    },
    {
      "cell_type": "code",
      "metadata": {
        "id": "IOQHJ4h6GWS1"
      },
      "source": [
        "# so by adding the hidden layers our accuracy got increased to 98.5 % , thats really cool"
      ],
      "execution_count": 75,
      "outputs": []
    },
    {
      "cell_type": "code",
      "metadata": {
        "id": "ki60WdRfHL5x"
      },
      "source": [
        "y_pred2=model1.predict(x_test_flat)"
      ],
      "execution_count": 76,
      "outputs": []
    },
    {
      "cell_type": "code",
      "metadata": {
        "id": "fT-i7_40HZZl"
      },
      "source": [
        "y_pred2_int=[np.argmax(i)  for i in y_pred]"
      ],
      "execution_count": 77,
      "outputs": []
    },
    {
      "cell_type": "code",
      "metadata": {
        "id": "JQI8WQyiHhwl"
      },
      "source": [
        "con_mat2=tf.math.confusion_matrix(labels=y_test,predictions=y_pred2_int)"
      ],
      "execution_count": 79,
      "outputs": []
    },
    {
      "cell_type": "code",
      "metadata": {
        "colab": {
          "base_uri": "https://localhost:8080/",
          "height": 624
        },
        "id": "CMXXWElIHxGw",
        "outputId": "49f45288-c431-4dd9-bf71-b5446009e2ba"
      },
      "source": [
        "import seaborn as sns\n",
        "plt.figure(figsize=(10,10))\n",
        "plt.xlabel(\"predicted\")\n",
        "plt.ylabel(\"actual value\")\n",
        "plt.title(\"confusion matrix between actual and predicted value\")\n",
        "sns.heatmap(con_mat2,annot=True,fmt=\"d\",cmap=\"cool\")"
      ],
      "execution_count": 80,
      "outputs": [
        {
          "output_type": "execute_result",
          "data": {
            "text/plain": [
              "<matplotlib.axes._subplots.AxesSubplot at 0x7fd4fc45a850>"
            ]
          },
          "metadata": {
            "tags": []
          },
          "execution_count": 80
        },
        {
          "output_type": "display_data",
          "data": {
            "image/png": "[encoded data removed]",
            "text/plain": [
              "<Figure size 720x720 with 2 Axes>"
            ]
          },
          "metadata": {
            "tags": [],
            "needs_background": "light"
          }
        }
      ]
    },
    {
      "cell_type": "code",
      "metadata": {
        "id": "MlUtP6SbH9Vx"
      },
      "source": [
        ""
      ],
      "execution_count": null,
      "outputs": []
    }
  ]
}